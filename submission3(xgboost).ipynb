{
 "cells": [
  {
   "cell_type": "code",
   "execution_count": 3,
   "metadata": {},
   "outputs": [
    {
     "data": {
      "text/html": [
       "<div>\n",
       "<style>\n",
       "    .dataframe thead tr:only-child th {\n",
       "        text-align: right;\n",
       "    }\n",
       "\n",
       "    .dataframe thead th {\n",
       "        text-align: left;\n",
       "    }\n",
       "\n",
       "    .dataframe tbody tr th {\n",
       "        vertical-align: top;\n",
       "    }\n",
       "</style>\n",
       "<table border=\"1\" class=\"dataframe\">\n",
       "  <thead>\n",
       "    <tr style=\"text-align: right;\">\n",
       "      <th></th>\n",
       "      <th>PERID</th>\n",
       "      <th>IFATHER</th>\n",
       "      <th>NRCH17_2</th>\n",
       "      <th>IRHHSIZ2</th>\n",
       "      <th>IIHHSIZ2</th>\n",
       "      <th>IRKI17_2</th>\n",
       "      <th>IIKI17_2</th>\n",
       "      <th>IRHH65_2</th>\n",
       "      <th>IIHH65_2</th>\n",
       "      <th>PRXRETRY</th>\n",
       "      <th>...</th>\n",
       "      <th>TOOLONG</th>\n",
       "      <th>TROUBUND</th>\n",
       "      <th>PDEN10</th>\n",
       "      <th>COUTYP2</th>\n",
       "      <th>MAIIN102</th>\n",
       "      <th>AIIND102</th>\n",
       "      <th>ANALWT_C</th>\n",
       "      <th>VESTR</th>\n",
       "      <th>VEREP</th>\n",
       "      <th>Criminal</th>\n",
       "    </tr>\n",
       "  </thead>\n",
       "  <tbody>\n",
       "    <tr>\n",
       "      <th>count</th>\n",
       "      <td>4.571600e+04</td>\n",
       "      <td>45716.000000</td>\n",
       "      <td>45716.000000</td>\n",
       "      <td>45716.000000</td>\n",
       "      <td>45716.000000</td>\n",
       "      <td>45716.000000</td>\n",
       "      <td>45716.000000</td>\n",
       "      <td>45716.000000</td>\n",
       "      <td>45716.000000</td>\n",
       "      <td>45716.000000</td>\n",
       "      <td>...</td>\n",
       "      <td>45716.000000</td>\n",
       "      <td>45716.000000</td>\n",
       "      <td>45716.000000</td>\n",
       "      <td>45716.000000</td>\n",
       "      <td>45716.000000</td>\n",
       "      <td>45716.000000</td>\n",
       "      <td>45716.000000</td>\n",
       "      <td>45716.000000</td>\n",
       "      <td>45716.000000</td>\n",
       "      <td>45716.000000</td>\n",
       "    </tr>\n",
       "    <tr>\n",
       "      <th>mean</th>\n",
       "      <td>5.445304e+07</td>\n",
       "      <td>3.355740</td>\n",
       "      <td>0.476551</td>\n",
       "      <td>3.426568</td>\n",
       "      <td>1.001794</td>\n",
       "      <td>2.084259</td>\n",
       "      <td>1.007525</td>\n",
       "      <td>1.162700</td>\n",
       "      <td>1.011112</td>\n",
       "      <td>97.399248</td>\n",
       "      <td>...</td>\n",
       "      <td>2.219551</td>\n",
       "      <td>2.235082</td>\n",
       "      <td>1.646251</td>\n",
       "      <td>1.764787</td>\n",
       "      <td>1.979066</td>\n",
       "      <td>1.978870</td>\n",
       "      <td>4692.866519</td>\n",
       "      <td>40025.490135</td>\n",
       "      <td>1.493963</td>\n",
       "      <td>0.069451</td>\n",
       "    </tr>\n",
       "    <tr>\n",
       "      <th>std</th>\n",
       "      <td>2.553876e+07</td>\n",
       "      <td>1.176324</td>\n",
       "      <td>0.888438</td>\n",
       "      <td>1.427151</td>\n",
       "      <td>0.059868</td>\n",
       "      <td>1.102823</td>\n",
       "      <td>0.122446</td>\n",
       "      <td>0.468821</td>\n",
       "      <td>0.145842</td>\n",
       "      <td>12.338273</td>\n",
       "      <td>...</td>\n",
       "      <td>5.295857</td>\n",
       "      <td>5.293723</td>\n",
       "      <td>0.618168</td>\n",
       "      <td>0.771211</td>\n",
       "      <td>0.143164</td>\n",
       "      <td>0.143821</td>\n",
       "      <td>5724.700526</td>\n",
       "      <td>14.626635</td>\n",
       "      <td>0.499969</td>\n",
       "      <td>0.254221</td>\n",
       "    </tr>\n",
       "    <tr>\n",
       "      <th>min</th>\n",
       "      <td>1.000222e+07</td>\n",
       "      <td>1.000000</td>\n",
       "      <td>-1.000000</td>\n",
       "      <td>1.000000</td>\n",
       "      <td>1.000000</td>\n",
       "      <td>1.000000</td>\n",
       "      <td>1.000000</td>\n",
       "      <td>1.000000</td>\n",
       "      <td>1.000000</td>\n",
       "      <td>2.000000</td>\n",
       "      <td>...</td>\n",
       "      <td>1.000000</td>\n",
       "      <td>1.000000</td>\n",
       "      <td>1.000000</td>\n",
       "      <td>1.000000</td>\n",
       "      <td>1.000000</td>\n",
       "      <td>1.000000</td>\n",
       "      <td>1.621832</td>\n",
       "      <td>40001.000000</td>\n",
       "      <td>1.000000</td>\n",
       "      <td>0.000000</td>\n",
       "    </tr>\n",
       "    <tr>\n",
       "      <th>25%</th>\n",
       "      <td>3.232899e+07</td>\n",
       "      <td>4.000000</td>\n",
       "      <td>0.000000</td>\n",
       "      <td>2.000000</td>\n",
       "      <td>1.000000</td>\n",
       "      <td>1.000000</td>\n",
       "      <td>1.000000</td>\n",
       "      <td>1.000000</td>\n",
       "      <td>1.000000</td>\n",
       "      <td>99.000000</td>\n",
       "      <td>...</td>\n",
       "      <td>2.000000</td>\n",
       "      <td>2.000000</td>\n",
       "      <td>1.000000</td>\n",
       "      <td>1.000000</td>\n",
       "      <td>2.000000</td>\n",
       "      <td>2.000000</td>\n",
       "      <td>1252.472995</td>\n",
       "      <td>40013.000000</td>\n",
       "      <td>1.000000</td>\n",
       "      <td>0.000000</td>\n",
       "    </tr>\n",
       "    <tr>\n",
       "      <th>50%</th>\n",
       "      <td>5.410588e+07</td>\n",
       "      <td>4.000000</td>\n",
       "      <td>0.000000</td>\n",
       "      <td>3.000000</td>\n",
       "      <td>1.000000</td>\n",
       "      <td>2.000000</td>\n",
       "      <td>1.000000</td>\n",
       "      <td>1.000000</td>\n",
       "      <td>1.000000</td>\n",
       "      <td>99.000000</td>\n",
       "      <td>...</td>\n",
       "      <td>2.000000</td>\n",
       "      <td>2.000000</td>\n",
       "      <td>2.000000</td>\n",
       "      <td>2.000000</td>\n",
       "      <td>2.000000</td>\n",
       "      <td>2.000000</td>\n",
       "      <td>2719.634952</td>\n",
       "      <td>40025.000000</td>\n",
       "      <td>1.000000</td>\n",
       "      <td>0.000000</td>\n",
       "    </tr>\n",
       "    <tr>\n",
       "      <th>75%</th>\n",
       "      <td>7.612399e+07</td>\n",
       "      <td>4.000000</td>\n",
       "      <td>1.000000</td>\n",
       "      <td>4.000000</td>\n",
       "      <td>1.000000</td>\n",
       "      <td>3.000000</td>\n",
       "      <td>1.000000</td>\n",
       "      <td>1.000000</td>\n",
       "      <td>1.000000</td>\n",
       "      <td>99.000000</td>\n",
       "      <td>...</td>\n",
       "      <td>2.000000</td>\n",
       "      <td>2.000000</td>\n",
       "      <td>2.000000</td>\n",
       "      <td>2.000000</td>\n",
       "      <td>2.000000</td>\n",
       "      <td>2.000000</td>\n",
       "      <td>5765.981068</td>\n",
       "      <td>40039.000000</td>\n",
       "      <td>2.000000</td>\n",
       "      <td>0.000000</td>\n",
       "    </tr>\n",
       "    <tr>\n",
       "      <th>max</th>\n",
       "      <td>9.999956e+07</td>\n",
       "      <td>4.000000</td>\n",
       "      <td>3.000000</td>\n",
       "      <td>6.000000</td>\n",
       "      <td>3.000000</td>\n",
       "      <td>4.000000</td>\n",
       "      <td>3.000000</td>\n",
       "      <td>3.000000</td>\n",
       "      <td>3.000000</td>\n",
       "      <td>99.000000</td>\n",
       "      <td>...</td>\n",
       "      <td>98.000000</td>\n",
       "      <td>98.000000</td>\n",
       "      <td>3.000000</td>\n",
       "      <td>3.000000</td>\n",
       "      <td>2.000000</td>\n",
       "      <td>2.000000</td>\n",
       "      <td>109100.623000</td>\n",
       "      <td>40050.000000</td>\n",
       "      <td>2.000000</td>\n",
       "      <td>1.000000</td>\n",
       "    </tr>\n",
       "  </tbody>\n",
       "</table>\n",
       "<p>8 rows × 72 columns</p>\n",
       "</div>"
      ],
      "text/plain": [
       "              PERID       IFATHER      NRCH17_2      IRHHSIZ2      IIHHSIZ2  \\\n",
       "count  4.571600e+04  45716.000000  45716.000000  45716.000000  45716.000000   \n",
       "mean   5.445304e+07      3.355740      0.476551      3.426568      1.001794   \n",
       "std    2.553876e+07      1.176324      0.888438      1.427151      0.059868   \n",
       "min    1.000222e+07      1.000000     -1.000000      1.000000      1.000000   \n",
       "25%    3.232899e+07      4.000000      0.000000      2.000000      1.000000   \n",
       "50%    5.410588e+07      4.000000      0.000000      3.000000      1.000000   \n",
       "75%    7.612399e+07      4.000000      1.000000      4.000000      1.000000   \n",
       "max    9.999956e+07      4.000000      3.000000      6.000000      3.000000   \n",
       "\n",
       "           IRKI17_2      IIKI17_2      IRHH65_2      IIHH65_2      PRXRETRY  \\\n",
       "count  45716.000000  45716.000000  45716.000000  45716.000000  45716.000000   \n",
       "mean       2.084259      1.007525      1.162700      1.011112     97.399248   \n",
       "std        1.102823      0.122446      0.468821      0.145842     12.338273   \n",
       "min        1.000000      1.000000      1.000000      1.000000      2.000000   \n",
       "25%        1.000000      1.000000      1.000000      1.000000     99.000000   \n",
       "50%        2.000000      1.000000      1.000000      1.000000     99.000000   \n",
       "75%        3.000000      1.000000      1.000000      1.000000     99.000000   \n",
       "max        4.000000      3.000000      3.000000      3.000000     99.000000   \n",
       "\n",
       "           ...            TOOLONG      TROUBUND        PDEN10       COUTYP2  \\\n",
       "count      ...       45716.000000  45716.000000  45716.000000  45716.000000   \n",
       "mean       ...           2.219551      2.235082      1.646251      1.764787   \n",
       "std        ...           5.295857      5.293723      0.618168      0.771211   \n",
       "min        ...           1.000000      1.000000      1.000000      1.000000   \n",
       "25%        ...           2.000000      2.000000      1.000000      1.000000   \n",
       "50%        ...           2.000000      2.000000      2.000000      2.000000   \n",
       "75%        ...           2.000000      2.000000      2.000000      2.000000   \n",
       "max        ...          98.000000     98.000000      3.000000      3.000000   \n",
       "\n",
       "           MAIIN102      AIIND102       ANALWT_C         VESTR         VEREP  \\\n",
       "count  45716.000000  45716.000000   45716.000000  45716.000000  45716.000000   \n",
       "mean       1.979066      1.978870    4692.866519  40025.490135      1.493963   \n",
       "std        0.143164      0.143821    5724.700526     14.626635      0.499969   \n",
       "min        1.000000      1.000000       1.621832  40001.000000      1.000000   \n",
       "25%        2.000000      2.000000    1252.472995  40013.000000      1.000000   \n",
       "50%        2.000000      2.000000    2719.634952  40025.000000      1.000000   \n",
       "75%        2.000000      2.000000    5765.981068  40039.000000      2.000000   \n",
       "max        2.000000      2.000000  109100.623000  40050.000000      2.000000   \n",
       "\n",
       "           Criminal  \n",
       "count  45716.000000  \n",
       "mean       0.069451  \n",
       "std        0.254221  \n",
       "min        0.000000  \n",
       "25%        0.000000  \n",
       "50%        0.000000  \n",
       "75%        0.000000  \n",
       "max        1.000000  \n",
       "\n",
       "[8 rows x 72 columns]"
      ]
     },
     "execution_count": 3,
     "metadata": {},
     "output_type": "execute_result"
    }
   ],
   "source": [
    "import pandas as pd\n",
    "import numpy as np\n",
    "train = pd.read_csv(\"criminal_train.csv\")\n",
    "train= train.drop(train.index[[44281,19230]])\n",
    "test = pd.read_csv(\"criminal_test.csv\")\n",
    "train_y = train.Criminal\n",
    "train_x1 = train.drop(['Criminal','PERID'],axis=1)\n",
    "test_x= test.drop('PERID',axis=1)\n",
    "train.describe()"
   ]
  },
  {
   "cell_type": "code",
   "execution_count": null,
   "metadata": {
    "collapsed": true
   },
   "outputs": [],
   "source": []
  },
  {
   "cell_type": "code",
   "execution_count": 8,
   "metadata": {
    "collapsed": true
   },
   "outputs": [],
   "source": [
    "from sklearn.preprocessing import Imputer\n",
    "my_imputer = Imputer(missing_values= -1,strategy= 'median')"
   ]
  },
  {
   "cell_type": "code",
   "execution_count": 20,
   "metadata": {},
   "outputs": [],
   "source": [
    "imputed_train_x=my_imputer.fit_transform(train_x1)\n",
    "imputed_test_x=my_imputer.transform(test_x)\n",
    "\n"
   ]
  },
  {
   "cell_type": "code",
   "execution_count": 21,
   "metadata": {},
   "outputs": [
    {
     "data": {
      "text/plain": [
       "array([[  4.00000000e+00,   2.00000000e+00,   4.00000000e+00, ...,\n",
       "          3.88480600e+03,   4.00260000e+04,   1.00000000e+00],\n",
       "       [  4.00000000e+00,   1.00000000e+00,   3.00000000e+00, ...,\n",
       "          1.62710811e+03,   4.00150000e+04,   2.00000000e+00],\n",
       "       [  4.00000000e+00,   1.00000000e+00,   2.00000000e+00, ...,\n",
       "          4.34495798e+03,   4.00240000e+04,   1.00000000e+00],\n",
       "       ..., \n",
       "       [  4.00000000e+00,   0.00000000e+00,   6.00000000e+00, ...,\n",
       "          1.49002742e+03,   4.00400000e+04,   1.00000000e+00],\n",
       "       [  4.00000000e+00,   0.00000000e+00,   1.00000000e+00, ...,\n",
       "          3.84713742e+03,   4.00500000e+04,   1.00000000e+00],\n",
       "       [  4.00000000e+00,   0.00000000e+00,   4.00000000e+00, ...,\n",
       "          1.13577937e+04,   4.00180000e+04,   2.00000000e+00]])"
      ]
     },
     "execution_count": 21,
     "metadata": {},
     "output_type": "execute_result"
    }
   ],
   "source": [
    "imputed_train_x"
   ]
  },
  {
   "cell_type": "code",
   "execution_count": null,
   "metadata": {
    "collapsed": true
   },
   "outputs": [],
   "source": []
  },
  {
   "cell_type": "code",
   "execution_count": 22,
   "metadata": {},
   "outputs": [
    {
     "data": {
      "text/plain": [
       "XGBRegressor(base_score=0.5, booster='gbtree', colsample_bylevel=1,\n",
       "       colsample_bytree=1, gamma=0, learning_rate=0.1, max_delta_step=0,\n",
       "       max_depth=3, min_child_weight=1, missing=None, n_estimators=100,\n",
       "       n_jobs=1, nthread=None, objective='reg:linear', random_state=0,\n",
       "       reg_alpha=0, reg_lambda=1, scale_pos_weight=1, seed=None,\n",
       "       silent=True, subsample=1)"
      ]
     },
     "execution_count": 22,
     "metadata": {},
     "output_type": "execute_result"
    }
   ],
   "source": [
    "from xgboost import XGBRegressor\n",
    "my_model = XGBRegressor()\n",
    "my_model.fit(imputed_train_x,train_y,verbose=False)"
   ]
  },
  {
   "cell_type": "code",
   "execution_count": 23,
   "metadata": {},
   "outputs": [
    {
     "data": {
      "text/plain": [
       "array([[  4.00000000e+00,   2.00000000e+00,   4.00000000e+00, ...,\n",
       "          3.88480600e+03,   4.00260000e+04,   1.00000000e+00],\n",
       "       [  4.00000000e+00,   1.00000000e+00,   3.00000000e+00, ...,\n",
       "          1.62710811e+03,   4.00150000e+04,   2.00000000e+00],\n",
       "       [  4.00000000e+00,   1.00000000e+00,   2.00000000e+00, ...,\n",
       "          4.34495798e+03,   4.00240000e+04,   1.00000000e+00],\n",
       "       ..., \n",
       "       [  4.00000000e+00,   0.00000000e+00,   6.00000000e+00, ...,\n",
       "          1.49002742e+03,   4.00400000e+04,   1.00000000e+00],\n",
       "       [  4.00000000e+00,   0.00000000e+00,   1.00000000e+00, ...,\n",
       "          3.84713742e+03,   4.00500000e+04,   1.00000000e+00],\n",
       "       [  4.00000000e+00,   0.00000000e+00,   4.00000000e+00, ...,\n",
       "          1.13577937e+04,   4.00180000e+04,   2.00000000e+00]])"
      ]
     },
     "execution_count": 23,
     "metadata": {},
     "output_type": "execute_result"
    }
   ],
   "source": [
    "imputed_train_x"
   ]
  },
  {
   "cell_type": "code",
   "execution_count": 25,
   "metadata": {},
   "outputs": [],
   "source": [
    "prediction= my_model.predict(imputed_test_x)\n",
    "submit= np.round(prediction,0)"
   ]
  },
  {
   "cell_type": "code",
   "execution_count": 26,
   "metadata": {},
   "outputs": [
    {
     "ename": "NameError",
     "evalue": "name 'val_y' is not defined",
     "output_type": "error",
     "traceback": [
      "\u001b[0;31m---------------------------------------------------------------------------\u001b[0m",
      "\u001b[0;31mNameError\u001b[0m                                 Traceback (most recent call last)",
      "\u001b[0;32m<ipython-input-26-fc13017edd51>\u001b[0m in \u001b[0;36m<module>\u001b[0;34m()\u001b[0m\n\u001b[1;32m      1\u001b[0m \u001b[0;32mfrom\u001b[0m \u001b[0msklearn\u001b[0m\u001b[0;34m.\u001b[0m\u001b[0mmetrics\u001b[0m \u001b[0;32mimport\u001b[0m \u001b[0mmean_absolute_error\u001b[0m\u001b[0;34m\u001b[0m\u001b[0m\n\u001b[0;32m----> 2\u001b[0;31m \u001b[0mmae\u001b[0m \u001b[0;34m=\u001b[0m \u001b[0mmean_absolute_error\u001b[0m\u001b[0;34m(\u001b[0m\u001b[0mval_y\u001b[0m\u001b[0;34m,\u001b[0m\u001b[0msubmit\u001b[0m\u001b[0;34m)\u001b[0m\u001b[0;34m\u001b[0m\u001b[0m\n\u001b[0m\u001b[1;32m      3\u001b[0m \u001b[0mmae\u001b[0m\u001b[0;34m\u001b[0m\u001b[0m\n",
      "\u001b[0;31mNameError\u001b[0m: name 'val_y' is not defined"
     ]
    }
   ],
   "source": [
    "from sklearn.metrics import mean_absolute_error\n",
    "mae = mean_absolute_error(val_y,submit)\n",
    "mae"
   ]
  },
  {
   "cell_type": "code",
   "execution_count": 27,
   "metadata": {
    "collapsed": true
   },
   "outputs": [],
   "source": [
    "submission1 = pd.DataFrame({'Criminal': submit,'PERID': test.PERID})\n",
    "submission1.to_csv('xgboosted.csv',index= False)"
   ]
  },
  {
   "cell_type": "code",
   "execution_count": null,
   "metadata": {
    "collapsed": true
   },
   "outputs": [],
   "source": []
  }
 ],
 "metadata": {
  "kernelspec": {
   "display_name": "Python 2",
   "language": "python",
   "name": "python2"
  },
  "language_info": {
   "codemirror_mode": {
    "name": "ipython",
    "version": 2
   },
   "file_extension": ".py",
   "mimetype": "text/x-python",
   "name": "python",
   "nbconvert_exporter": "python",
   "pygments_lexer": "ipython2",
   "version": "2.7.14"
  }
 },
 "nbformat": 4,
 "nbformat_minor": 2
}
