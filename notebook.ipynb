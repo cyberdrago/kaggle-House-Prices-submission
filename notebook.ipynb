{
  "cells": [
    {
      "metadata": {
        "_uuid": "b6269c0e8f417f82daf093dda8fa0da6d2c57d86",
        "_cell_guid": "e81ee64d-e474-4662-9036-ce23df615199"
      },
      "cell_type": "markdown",
      "source": "**# Introduction\n**This will be your workspace for Kaggle's Machine Learning education track.**\n\nYou will build and continually improve a model to predict housing prices as you work through each tutorial.  Fork this notebook and write your code in it.\n\nThe data from the tutorial, the Melbourne data, is not available in this workspace.  You will need to translate the concepts to work with the data in this notebook, the Iowa data.\n\nCome to the [Learn Discussion](https://www.kaggle.com/learn-forum) forum for any questions or comments. \n\n# Write Your Code Below\n\n"
    },
    {
      "metadata": {
        "_uuid": "1c728098629e1301643443b1341556a15c089b2b",
        "_cell_guid": "86b26423-563a-4fa1-a595-89e25ff93089",
        "trusted": true,
        "collapsed": true
      },
      "cell_type": "code",
      "source": "import pandas as pd\nimport numpy as np\nfrom sklearn.ensemble import RandomForestRegressor\ntrain_data = pd.read_csv('../input/train.csv')\ntest_data = pd.read_csv('../input/test.csv')\ntrain_target = train_data['SalePrice']\ntrain = train_data.drop(['SalePrice'], axis= 1)\ncols= ['Id','LotArea','OverallQual','YearBuilt','TotRmsAbvGrd']\ntrain_X= train_data[cols]\ntest_X = test_data[cols]\n\n",
      "execution_count": 1,
      "outputs": []
    },
    {
      "metadata": {
        "_uuid": "b8d9b9edc246e55330367dcc1b0b1967b4b39a19",
        "_cell_guid": "17fd1bf7-8dc2-41fe-aa30-f6899ccbae0a",
        "collapsed": true,
        "trusted": true
      },
      "cell_type": "code",
      "source": "one_hot_encoded_training_predictors = pd.get_dummies(train_data)\none_hot_encoded_test_predictors = pd.get_dummies(test_data)\nfinal_train, final_test = one_hot_encoded_training_predictors.align(one_hot_encoded_test_predictors,\n                                                                    join='left', \n                                                                    axis=1)\n",
      "execution_count": 2,
      "outputs": []
    },
    {
      "metadata": {
        "_uuid": "f14ee6837ee10f90b95599168d655f10018819dd",
        "_cell_guid": "ea8c686d-7b73-461a-919e-477fb2eb554c",
        "collapsed": true,
        "trusted": true
      },
      "cell_type": "code",
      "source": "from sklearn.preprocessing import Imputer\nmodel = Imputer()\nimputed_train = model.fit_transform(final_train)\nimputed_test = model.transform(final_test)",
      "execution_count": 3,
      "outputs": []
    },
    {
      "metadata": {
        "_uuid": "749cd8f9ce4025b96831b090734dea354ccb13d8",
        "_cell_guid": "1e00771b-82c6-436c-a8f4-177b48fe4059",
        "collapsed": true,
        "trusted": true
      },
      "cell_type": "code",
      "source": "from xgboost import XGBRegressor\nmy_model = XGBRegressor()\nfit = my_model.fit(train_X,train_target,verbose= False)",
      "execution_count": 4,
      "outputs": []
    },
    {
      "metadata": {
        "_uuid": "46b656cc32269deaf36b0f1e3f3ab84e23ee3223",
        "_cell_guid": "42366395-a5ad-4df4-b1fc-778c6eff5173",
        "collapsed": true,
        "trusted": true
      },
      "cell_type": "code",
      "source": "prediction= my_model.predict(test_X)",
      "execution_count": 5,
      "outputs": []
    },
    {
      "metadata": {
        "_uuid": "09d14c7d53e066295dbbe51ccbc2c269b75d2272",
        "_cell_guid": "549140cc-6530-4f8e-b7ba-7dd254b42e20",
        "trusted": true,
        "collapsed": true
      },
      "cell_type": "code",
      "source": "my_submission= pd.DataFrame({'Id': test_X.Id, 'SalePrice':prediction})\nmy_submission.to_csv('second_submission.csv',index= False)",
      "execution_count": 6,
      "outputs": []
    },
    {
      "metadata": {
        "_uuid": "0f44a1dfa9045d8079cdc1adf952c6b798c05f0e",
        "_cell_guid": "e3cf22ba-0c0e-4a8f-9a84-f0d86c389913",
        "trusted": true
      },
      "cell_type": "code",
      "source": "X= data[['LotArea','YearBuilt','1stFlrSF','2ndFlrSF','FullBath','BedroomAbvGr','TotRmsAbvGrd']]",
      "execution_count": 7,
      "outputs": [
        {
          "output_type": "error",
          "ename": "NameError",
          "evalue": "name 'data' is not defined",
          "traceback": [
            "\u001b[0;31m---------------------------------------------------------------------------\u001b[0m",
            "\u001b[0;31mNameError\u001b[0m                                 Traceback (most recent call last)",
            "\u001b[0;32m<ipython-input-7-ae3554684ee5>\u001b[0m in \u001b[0;36m<module>\u001b[0;34m()\u001b[0m\n\u001b[0;32m----> 1\u001b[0;31m \u001b[0mX\u001b[0m\u001b[0;34m=\u001b[0m \u001b[0mdata\u001b[0m\u001b[0;34m[\u001b[0m\u001b[0;34m[\u001b[0m\u001b[0;34m'LotArea'\u001b[0m\u001b[0;34m,\u001b[0m\u001b[0;34m'YearBuilt'\u001b[0m\u001b[0;34m,\u001b[0m\u001b[0;34m'1stFlrSF'\u001b[0m\u001b[0;34m,\u001b[0m\u001b[0;34m'2ndFlrSF'\u001b[0m\u001b[0;34m,\u001b[0m\u001b[0;34m'FullBath'\u001b[0m\u001b[0;34m,\u001b[0m\u001b[0;34m'BedroomAbvGr'\u001b[0m\u001b[0;34m,\u001b[0m\u001b[0;34m'TotRmsAbvGrd'\u001b[0m\u001b[0;34m]\u001b[0m\u001b[0;34m]\u001b[0m\u001b[0;34m\u001b[0m\u001b[0m\n\u001b[0m",
            "\u001b[0;31mNameError\u001b[0m: name 'data' is not defined"
          ]
        }
      ]
    },
    {
      "metadata": {
        "_uuid": "fae0afb2a782e2680f9bf193b00044d66c25ce62",
        "_cell_guid": "2ac6e59a-97f0-4c4f-a1e5-c42fe3e66d66",
        "trusted": true
      },
      "cell_type": "code",
      "source": "final_test.Id",
      "execution_count": 8,
      "outputs": [
        {
          "output_type": "execute_result",
          "execution_count": 8,
          "data": {
            "text/plain": "0       1461\n1       1462\n2       1463\n3       1464\n4       1465\n5       1466\n6       1467\n7       1468\n8       1469\n9       1470\n10      1471\n11      1472\n12      1473\n13      1474\n14      1475\n15      1476\n16      1477\n17      1478\n18      1479\n19      1480\n20      1481\n21      1482\n22      1483\n23      1484\n24      1485\n25      1486\n26      1487\n27      1488\n28      1489\n29      1490\n        ... \n1429    2890\n1430    2891\n1431    2892\n1432    2893\n1433    2894\n1434    2895\n1435    2896\n1436    2897\n1437    2898\n1438    2899\n1439    2900\n1440    2901\n1441    2902\n1442    2903\n1443    2904\n1444    2905\n1445    2906\n1446    2907\n1447    2908\n1448    2909\n1449    2910\n1450    2911\n1451    2912\n1452    2913\n1453    2914\n1454    2915\n1455    2916\n1456    2917\n1457    2918\n1458    2919\nName: Id, Length: 1459, dtype: int64"
          },
          "metadata": {}
        }
      ]
    },
    {
      "metadata": {
        "_uuid": "def5326763d80bc006d629f6c411d5a31cd75791",
        "_cell_guid": "d063c86c-b56f-46bb-ae90-b0a5b54e11b8",
        "trusted": true
      },
      "cell_type": "code",
      "source": "from sklearn.tree import DecisionTreeRegressor\nmy_model = DecisionTreeRegressor()\nmy_model.fit(X,y)",
      "execution_count": 9,
      "outputs": [
        {
          "output_type": "error",
          "ename": "NameError",
          "evalue": "name 'X' is not defined",
          "traceback": [
            "\u001b[0;31m---------------------------------------------------------------------------\u001b[0m",
            "\u001b[0;31mNameError\u001b[0m                                 Traceback (most recent call last)",
            "\u001b[0;32m<ipython-input-9-f934251802b9>\u001b[0m in \u001b[0;36m<module>\u001b[0;34m()\u001b[0m\n\u001b[1;32m      1\u001b[0m \u001b[0;32mfrom\u001b[0m \u001b[0msklearn\u001b[0m\u001b[0;34m.\u001b[0m\u001b[0mtree\u001b[0m \u001b[0;32mimport\u001b[0m \u001b[0mDecisionTreeRegressor\u001b[0m\u001b[0;34m\u001b[0m\u001b[0m\n\u001b[1;32m      2\u001b[0m \u001b[0mmy_model\u001b[0m \u001b[0;34m=\u001b[0m \u001b[0mDecisionTreeRegressor\u001b[0m\u001b[0;34m(\u001b[0m\u001b[0;34m)\u001b[0m\u001b[0;34m\u001b[0m\u001b[0m\n\u001b[0;32m----> 3\u001b[0;31m \u001b[0mmy_model\u001b[0m\u001b[0;34m.\u001b[0m\u001b[0mfit\u001b[0m\u001b[0;34m(\u001b[0m\u001b[0mX\u001b[0m\u001b[0;34m,\u001b[0m\u001b[0my\u001b[0m\u001b[0;34m)\u001b[0m\u001b[0;34m\u001b[0m\u001b[0m\n\u001b[0m",
            "\u001b[0;31mNameError\u001b[0m: name 'X' is not defined"
          ]
        }
      ]
    },
    {
      "metadata": {
        "_uuid": "84804466d83720d9aec2f98440280aa01ac175ff",
        "_cell_guid": "d0db912a-eaa8-4945-800c-bcdc904c7578",
        "trusted": true
      },
      "cell_type": "code",
      "source": "my_model.predict(final_test",
      "execution_count": 10,
      "outputs": [
        {
          "output_type": "error",
          "ename": "SyntaxError",
          "evalue": "unexpected EOF while parsing (<ipython-input-10-ef6abae69ab8>, line 1)",
          "traceback": [
            "\u001b[0;36m  File \u001b[0;32m\"<ipython-input-10-ef6abae69ab8>\"\u001b[0;36m, line \u001b[0;32m1\u001b[0m\n\u001b[0;31m    my_model.predict(final_test\u001b[0m\n\u001b[0m                               ^\u001b[0m\n\u001b[0;31mSyntaxError\u001b[0m\u001b[0;31m:\u001b[0m unexpected EOF while parsing\n"
          ]
        }
      ]
    },
    {
      "metadata": {
        "_uuid": "d32104227261236e186a0540f55532e79bec2753",
        "_cell_guid": "51ef00c0-8bd0-48b5-a45a-0f1efb2c1935",
        "trusted": true
      },
      "cell_type": "code",
      "source": "my_submission= pd.DataFrame({'Id': test.Id, 'SalePrice':predictions})\nmy_submission.to_csv('first_submission.csv',index= False)",
      "execution_count": 11,
      "outputs": [
        {
          "output_type": "error",
          "ename": "NameError",
          "evalue": "name 'test' is not defined",
          "traceback": [
            "\u001b[0;31m---------------------------------------------------------------------------\u001b[0m",
            "\u001b[0;31mNameError\u001b[0m                                 Traceback (most recent call last)",
            "\u001b[0;32m<ipython-input-11-8c5097c3a9f9>\u001b[0m in \u001b[0;36m<module>\u001b[0;34m()\u001b[0m\n\u001b[0;32m----> 1\u001b[0;31m \u001b[0mmy_submission\u001b[0m\u001b[0;34m=\u001b[0m \u001b[0mpd\u001b[0m\u001b[0;34m.\u001b[0m\u001b[0mDataFrame\u001b[0m\u001b[0;34m(\u001b[0m\u001b[0;34m{\u001b[0m\u001b[0;34m'Id'\u001b[0m\u001b[0;34m:\u001b[0m \u001b[0mtest\u001b[0m\u001b[0;34m.\u001b[0m\u001b[0mId\u001b[0m\u001b[0;34m,\u001b[0m \u001b[0;34m'SalePrice'\u001b[0m\u001b[0;34m:\u001b[0m\u001b[0mpredictions\u001b[0m\u001b[0;34m}\u001b[0m\u001b[0;34m)\u001b[0m\u001b[0;34m\u001b[0m\u001b[0m\n\u001b[0m\u001b[1;32m      2\u001b[0m \u001b[0mmy_submission\u001b[0m\u001b[0;34m.\u001b[0m\u001b[0mto_csv\u001b[0m\u001b[0;34m(\u001b[0m\u001b[0;34m'first_submission.csv'\u001b[0m\u001b[0;34m,\u001b[0m\u001b[0mindex\u001b[0m\u001b[0;34m=\u001b[0m \u001b[0;32mFalse\u001b[0m\u001b[0;34m)\u001b[0m\u001b[0;34m\u001b[0m\u001b[0m\n",
            "\u001b[0;31mNameError\u001b[0m: name 'test' is not defined"
          ]
        }
      ]
    },
    {
      "metadata": {
        "_uuid": "591a0dcc01ab9a1c82cfcb67673c9ea6a3162d38",
        "_cell_guid": "d9c00672-15bc-43ae-ac9e-1edd9cd3ec62",
        "collapsed": true,
        "trusted": true
      },
      "cell_type": "code",
      "source": "import numpy as np\nimport pandas as pd\nfrom sklearn.ensemble import RandomForestRegressor\ntrain= pd.read_csv('../input/train.csv')\ntrain_y= train.SalePrice\ncols= ['Id','LotArea','OverallQual','YearBuilt','TotRmsAbvGrd']\ntrain_X= train[cols]\n#model= RandomForestRegressor()\n#model.fit(train_X,train_y)",
      "execution_count": 12,
      "outputs": []
    },
    {
      "metadata": {
        "_uuid": "4344ee8af56aba59bd70335df1d5efbe36617f7b",
        "_cell_guid": "7ac3def2-a719-4dd3-b194-bef044f57003",
        "collapsed": true,
        "trusted": false
      },
      "cell_type": "code",
      "source": "test= pd.read_csv('../input/test.csv')\ntest_X= test[cols]\nfrom sklearn.preprocessing import Imputer\nmy_imputer= Imputer()\ntrain_X",
      "execution_count": null,
      "outputs": []
    },
    {
      "metadata": {
        "_uuid": "e787c7503ecb092434b6b920b9e793a6b9647f99",
        "_cell_guid": "526a3e57-a03d-4ce2-b8a2-f925a7ba3839",
        "collapsed": true,
        "trusted": false
      },
      "cell_type": "code",
      "source": "my_submission= pd.DataFrame({'Id': test.Id, 'SalePrice':predictions})\nmy_submission.to_csv('first_submission.csv',index= False)",
      "execution_count": null,
      "outputs": []
    },
    {
      "metadata": {
        "_uuid": "e24b71795dfc9c7b4afebe3c71daa50ca690c25a",
        "_cell_guid": "eae6ece8-87f0-4118-97fd-180db99f05d5",
        "collapsed": true,
        "trusted": false
      },
      "cell_type": "code",
      "source": "missing = [cols for cols in train_X.columns\n          if train_X[cols].isnull().any()]",
      "execution_count": null,
      "outputs": []
    },
    {
      "metadata": {
        "_uuid": "7af4fd8caeb121b685ba7fc0b4a173c6e1baa454",
        "_cell_guid": "48f9b3d4-7395-4370-adae-e51c7b7d410a",
        "collapsed": true,
        "trusted": false
      },
      "cell_type": "code",
      "source": "print(missing)",
      "execution_count": null,
      "outputs": []
    },
    {
      "metadata": {
        "_uuid": "a89b44a4ca7af55063043727aebba762203cb095",
        "_cell_guid": "fcc6301d-32f8-46ba-9ebd-653ff5eef523",
        "collapsed": true,
        "trusted": false
      },
      "cell_type": "code",
      "source": "is trian_X.null().any()",
      "execution_count": null,
      "outputs": []
    },
    {
      "metadata": {
        "_uuid": "1e1685cdb0e3e1979584e2f01c1b0515dd6e754c",
        "_cell_guid": "cca9f298-c579-4fc2-aea8-02ebac59a441",
        "collapsed": true,
        "trusted": false
      },
      "cell_type": "code",
      "source": "",
      "execution_count": null,
      "outputs": []
    }
  ],
  "metadata": {
    "language_info": {
      "name": "python",
      "version": "3.6.4",
      "mimetype": "text/x-python",
      "codemirror_mode": {
        "name": "ipython",
        "version": 3
      },
      "pygments_lexer": "ipython3",
      "nbconvert_exporter": "python",
      "file_extension": ".py"
    },
    "kernelspec": {
      "display_name": "Python 3",
      "language": "python",
      "name": "python3"
    }
  },
  "nbformat": 4,
  "nbformat_minor": 1
}